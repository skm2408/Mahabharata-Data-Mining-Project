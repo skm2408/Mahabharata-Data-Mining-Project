{
 "cells": [
  {
   "cell_type": "code",
   "execution_count": 1,
   "id": "f2cd19fc",
   "metadata": {},
   "outputs": [
    {
     "name": "stdout",
     "output_type": "stream",
     "text": [
      "/Users/shubham/Desktop/Data Mining/project/suggest-extract-notebook-master/data/mahabharata-english\n"
     ]
    }
   ],
   "source": [
    "cd /Users/shubham/Desktop/Data Mining/project/suggest-extract-notebook-master/data/mahabharata-english\n"
   ]
  },
  {
   "cell_type": "code",
   "execution_count": 121,
   "id": "e9b51e73",
   "metadata": {},
   "outputs": [
    {
     "name": "stdout",
     "output_type": "stream",
     "text": [
      "/Users/shubham/Desktop/Data Mining/project/suggest-extract-notebook-master/data/mahabharata-english/m18\n"
     ]
    }
   ],
   "source": [
    "cd m18"
   ]
  },
  {
   "cell_type": "code",
   "execution_count": 122,
   "id": "62beecd0",
   "metadata": {},
   "outputs": [
    {
     "name": "stdout",
     "output_type": "stream",
     "text": [
      "m18001.txt  m18002.txt  m18003.txt  m18004.txt  m18005.txt  m18006.txt\r\n"
     ]
    }
   ],
   "source": [
    "ls"
   ]
  },
  {
   "cell_type": "code",
   "execution_count": null,
   "id": "fe6d6ca7",
   "metadata": {},
   "outputs": [],
   "source": []
  },
  {
   "cell_type": "code",
   "execution_count": 123,
   "id": "8629c6d3",
   "metadata": {},
   "outputs": [],
   "source": [
    "import pandas as pd\n",
    "import numpy as np\n",
    "import os\n",
    "import csv"
   ]
  },
  {
   "cell_type": "code",
   "execution_count": 124,
   "id": "c9dee2b0",
   "metadata": {},
   "outputs": [],
   "source": [
    "files = [f for f in os.listdir('.') if os.path.isfile(f)]\n",
    "# fh1=open('/Users/shubham/Desktop/Data Mining/project/suggest-extract-notebook-master/data/mahabharata.txt','w+')\n",
    "files=sorted(files)"
   ]
  },
  {
   "cell_type": "code",
   "execution_count": 125,
   "id": "06fc6a56",
   "metadata": {},
   "outputs": [],
   "source": [
    "cnt=0\n",
    "rows=[]\n",
    "count1=0\n",
    "for f in files:\n",
    "    count1+=1\n",
    "    if cnt ==0:\n",
    "        cnt+=1\n",
    "        continue\n",
    "    count=0\n",
    "    f1 = open(f,'r')\n",
    "    for x in f1:\n",
    "        if(count>4):\n",
    "            lines=f1.readlines()\n",
    "            lines=lines[:-2]\n",
    "            for line in lines:\n",
    "                if line.strip('\\n').strip()=='':\n",
    "                    continue\n",
    "                rows.append([line.strip('\\n').strip()])\n",
    "        count+=1"
   ]
  },
  {
   "cell_type": "code",
   "execution_count": 126,
   "id": "0d678910",
   "metadata": {},
   "outputs": [],
   "source": [
    "with open('/Users/shubham/Desktop/Data Mining/project/suggest-extract-notebook-master/data/mahabharata.csv', 'a+') as csvfile:\n",
    "    csvwriter = csv.writer(csvfile)\n",
    "    csvwriter.writerows(rows)"
   ]
  },
  {
   "cell_type": "code",
   "execution_count": null,
   "id": "997d28f8",
   "metadata": {},
   "outputs": [],
   "source": []
  },
  {
   "cell_type": "code",
   "execution_count": null,
   "id": "a7330d5f",
   "metadata": {},
   "outputs": [],
   "source": []
  }
 ],
 "metadata": {
  "kernelspec": {
   "display_name": "Python 3",
   "language": "python",
   "name": "python3"
  },
  "language_info": {
   "codemirror_mode": {
    "name": "ipython",
    "version": 3
   },
   "file_extension": ".py",
   "mimetype": "text/x-python",
   "name": "python",
   "nbconvert_exporter": "python",
   "pygments_lexer": "ipython3",
   "version": "3.8.8"
  }
 },
 "nbformat": 4,
 "nbformat_minor": 5
}
